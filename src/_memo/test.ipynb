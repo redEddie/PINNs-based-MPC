{
 "cells": [
  {
   "cell_type": "code",
   "execution_count": 3,
   "metadata": {},
   "outputs": [
    {
     "name": "stdout",
     "output_type": "stream",
     "text": [
      "[0.5 0.4]\n",
      "[-0.5 -0.4]\n"
     ]
    }
   ],
   "source": [
    "import numpy as np\n",
    "\n",
    "u_ub = np.array([0.5, 0.4])\n",
    "u_lb = - u_ub\n",
    "\n",
    "print(u_ub)\n",
    "print(u_lb)"
   ]
  },
  {
   "cell_type": "code",
   "execution_count": 1,
   "metadata": {},
   "outputs": [
    {
     "name": "stdout",
     "output_type": "stream",
     "text": [
      "tf.Tensor(16, shape=(), dtype=int32)\n"
     ]
    }
   ],
   "source": [
    "import tensorflow as tf\n",
    "\n",
    "\n",
    "@tf.function\n",
    "def my_function(x):\n",
    "    return x * x + 2 * x + 1\n",
    "\n",
    "\n",
    "# 그래프 실행 모드에서 함수 호출\n",
    "result = my_function(3)\n",
    "print(result)  # 출력: tf.Tensor(16, shape=(), dtype=int32)"
   ]
  },
  {
   "cell_type": "code",
   "execution_count": null,
   "metadata": {},
   "outputs": [],
   "source": []
  }
 ],
 "metadata": {
  "kernelspec": {
   "display_name": "pinn",
   "language": "python",
   "name": "python3"
  },
  "language_info": {
   "codemirror_mode": {
    "name": "ipython",
    "version": 3
   },
   "file_extension": ".py",
   "mimetype": "text/x-python",
   "name": "python",
   "nbconvert_exporter": "python",
   "pygments_lexer": "ipython3",
   "version": "3.9.18"
  }
 },
 "nbformat": 4,
 "nbformat_minor": 2
}
